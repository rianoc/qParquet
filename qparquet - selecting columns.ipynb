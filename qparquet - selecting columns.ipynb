{
 "cells": [
  {
   "cell_type": "markdown",
   "metadata": {},
   "source": [
    "## Outline\n",
    "The previous qparquet example showed pulling a full table in to memory from a parquet file.\n",
    "\n",
    "This example expands on that to allow control of which columns are extracted."
   ]
  },
  {
   "cell_type": "markdown",
   "metadata": {},
   "source": [
    "### Imports"
   ]
  },
  {
   "cell_type": "code",
   "execution_count": 1,
   "metadata": {},
   "outputs": [],
   "source": [
    "//parquet library prints many warnings - ignore for this example\n",
    "p)import warnings\n",
    "p)warnings.filterwarnings(\"ignore\")"
   ]
  },
  {
   "cell_type": "code",
   "execution_count": 2,
   "metadata": {},
   "outputs": [],
   "source": [
    "//Import pandas, numpy, and pyarrow\n",
    "p)import pandas as pd\n",
    "p)import numpy as np\n",
    "p)import pyarrow as pa\n",
    "p)import pyarrow.parquet as pq"
   ]
  },
  {
   "cell_type": "markdown",
   "metadata": {},
   "source": [
    "### Find columns\n",
    "\n",
    "Start by creating a function which extracts the list of columns in a parquet file."
   ]
  },
  {
   "cell_type": "code",
   "execution_count": 3,
   "metadata": {},
   "outputs": [],
   "source": [
    "p)def getColumnNames(file):\n",
    "    return (pq.read_schema(file)).names"
   ]
  },
  {
   "cell_type": "markdown",
   "metadata": {},
   "source": [
    "This can be called from python"
   ]
  },
  {
   "cell_type": "code",
   "execution_count": 4,
   "metadata": {},
   "outputs": [
    {
     "name": "stdout",
     "output_type": "stream",
     "text": [
      "['one', 'two', 'three', '__index_level_0__']\n"
     ]
    }
   ],
   "source": [
    "p)print(getColumnNames('example.parquet'))"
   ]
  },
  {
   "cell_type": "markdown",
   "metadata": {},
   "source": [
    "Next we pull the function in to q"
   ]
  },
  {
   "cell_type": "code",
   "execution_count": 5,
   "metadata": {},
   "outputs": [
    {
     "data": {
      "text/plain": [
       "\"one\"\r\n",
       "\"two\"\r\n",
       "\"three\"\r\n",
       "\"__index_level_0__\"\r\n"
      ]
     },
     "execution_count": 5,
     "metadata": {},
     "output_type": "execute_result"
    }
   ],
   "source": [
    "getColumnNames:.p.get`getColumnNames\n",
    "getColumnNames[\"example.parquet\"]`"
   ]
  },
  {
   "cell_type": "markdown",
   "metadata": {},
   "source": [
    "### Extract columns"
   ]
  },
  {
   "cell_type": "markdown",
   "metadata": {},
   "source": [
    "The `read_table` function has an optional argument to only extract a sublist of columns from the parquet file.\n",
    "\n",
    "We create a function which will return only the columns we choose.\n",
    "\n",
    "The resulting data is converted to pandas and then to a dictionary for preperation to export to q"
   ]
  },
  {
   "cell_type": "code",
   "execution_count": 6,
   "metadata": {},
   "outputs": [],
   "source": [
    "p)def getColumns(file, cols):\n",
    "    table=pq.read_table('example.parquet', columns=cols)\n",
    "    return (table.to_pandas()).to_dict('list')"
   ]
  },
  {
   "cell_type": "markdown",
   "metadata": {},
   "source": [
    "Now you can control which columns return"
   ]
  },
  {
   "cell_type": "code",
   "execution_count": 7,
   "metadata": {},
   "outputs": [
    {
     "name": "stdout",
     "output_type": "stream",
     "text": [
      "{'one': [-1.0, 0.0, 2.5], 'two': ['foo', 'bar', 'baz']}\n"
     ]
    }
   ],
   "source": [
    "p)print(getColumns('example.parquet',['one', 'two']))"
   ]
  },
  {
   "cell_type": "markdown",
   "metadata": {},
   "source": [
    "Next we pull the function in to q. The data is returned as a dictionary. To convert to a table use `flip`"
   ]
  },
  {
   "cell_type": "code",
   "execution_count": 8,
   "metadata": {},
   "outputs": [
    {
     "data": {
      "text/plain": [
       "one| -1    0     2.5  \r\n",
       "two| \"foo\" \"bar\" \"baz\"\r\n"
      ]
     },
     "execution_count": 8,
     "metadata": {},
     "output_type": "execute_result"
    }
   ],
   "source": [
    "getColumns:.p.get`getColumns\n",
    "getColumns[\"example.parquet\";(\"one\";\"two\")]`"
   ]
  },
  {
   "cell_type": "markdown",
   "metadata": {},
   "source": [
    "### Extract only one column\n",
    "\n",
    "A small wrapper around previsouly created function exposes this functionality"
   ]
  },
  {
   "cell_type": "code",
   "execution_count": 9,
   "metadata": {},
   "outputs": [],
   "source": [
    "getColumn:{[file;column] first value getColumns[file;enlist column]`}"
   ]
  },
  {
   "cell_type": "markdown",
   "metadata": {},
   "source": [
    "We can choose the exact needed column."
   ]
  },
  {
   "cell_type": "code",
   "execution_count": 15,
   "metadata": {},
   "outputs": [
    {
     "data": {
      "text/plain": [
       "-1 0 2.5\r\n"
      ]
     },
     "execution_count": 15,
     "metadata": {},
     "output_type": "execute_result"
    }
   ],
   "source": [
    "getColumn[\"example.parquet\";\"one\"]"
   ]
  }
 ],
 "metadata": {
  "kernelspec": {
   "display_name": "Q (kdb+)",
   "language": "q",
   "name": "qpk"
  },
  "language_info": {
   "file_extension": ".q",
   "mimetype": "text/x-q",
   "name": "q",
   "version": "3.6.0"
  },
  "toc": {
   "base_numbering": 1,
   "nav_menu": {},
   "number_sections": true,
   "sideBar": true,
   "skip_h1_title": false,
   "title_cell": "Table of Contents",
   "title_sidebar": "Contents",
   "toc_cell": false,
   "toc_position": {},
   "toc_section_display": true,
   "toc_window_display": false
  }
 },
 "nbformat": 4,
 "nbformat_minor": 2
}
