{
 "cells": [
  {
   "cell_type": "markdown",
   "metadata": {},
   "source": [
    "## Outline\n",
    "\n",
    "This notebook combines previous examples. Scaling the ingestion with casting rules per columns."
   ]
  },
  {
   "cell_type": "markdown",
   "metadata": {},
   "source": [
    "## Create sample table"
   ]
  },
  {
   "cell_type": "code",
   "execution_count": 1,
   "metadata": {},
   "outputs": [],
   "source": [
    "//Imports and setup\n",
    "p)import warnings\n",
    "p)warnings.filterwarnings(\"ignore\")\n",
    "p)import pandas as pd\n",
    "p)import numpy as np\n",
    "p)import pyarrow as pa\n",
    "p)import pyarrow.parquet as pq"
   ]
  },
  {
   "cell_type": "code",
   "execution_count": 2,
   "metadata": {},
   "outputs": [
    {
     "name": "stdout",
     "output_type": "stream",
     "text": [
      "                 time  one\n",
      "0 2012-07-01 01:00:00    1\n",
      "1 2012-07-01 01:00:00    2\n",
      "2 2012-07-01 01:00:00    3\n",
      "3 2012-07-01 01:00:00    4\n"
     ]
    }
   ],
   "source": [
    "p)times=[np.datetime64('2012-06-30T21:00:00.000000000-0400')] * 4\n",
    "p)table=pd.DataFrame(columns=['time','one'])\n",
    "p)table['time'] = times\n",
    "p)table['one'] = [1,2,3,4]\n",
    "p)print(table)"
   ]
  },
  {
   "cell_type": "code",
   "execution_count": 3,
   "metadata": {},
   "outputs": [],
   "source": [
    "p)pq.write_table(pa.Table.from_pandas(table), 'example.parquet')"
   ]
  },
  {
   "cell_type": "markdown",
   "metadata": {},
   "source": [
    "## Castings rules\n",
    "\n",
    "The difference with this example to previous is that a dictionary is used to define rules to apply to each column."
   ]
  },
  {
   "cell_type": "code",
   "execution_count": 4,
   "metadata": {},
   "outputs": [],
   "source": [
    "//eval is use is python to apply whatever code yo uneed to prepare the column\n",
    "conversionsPY:enlist[`time]!enlist \"table[\\\"time\\\"]=pd.to_numeric(table[\\\"time\\\"])\";\n",
    "//Once in q you have a similar option to apply a rule\n",
    "conversionsQ:enlist[`time]!enlist {`timestamp$x-`long$2000.01.01D-1970.01.01D};"
   ]
  },
  {
   "cell_type": "markdown",
   "metadata": {},
   "source": [
    "## Running the example"
   ]
  },
  {
   "cell_type": "markdown",
   "metadata": {},
   "source": [
    "Start your worker processes"
   ]
  },
  {
   "cell_type": "raw",
   "metadata": {},
   "source": [
    "q qparquet.q - p 5001 &\n",
    "q qparquet.q - p 5002 &\n",
    "q qparquet.q - p 5003 &"
   ]
  },
  {
   "cell_type": "markdown",
   "metadata": {},
   "source": [
    "Run the master process to distibute the work"
   ]
  },
  {
   "cell_type": "raw",
   "metadata": {},
   "source": [
    "q convert.q -s -3 -slaves 5001 5002 5003"
   ]
  },
  {
   "cell_type": "markdown",
   "metadata": {},
   "source": [
    "The output shows that the qparquet data is now successfully a q splayed table"
   ]
  },
  {
   "cell_type": "raw",
   "metadata": {},
   "source": [
    "`:splayed/time`:splayed/one\n",
    "`:splayed/.d\n",
    "\"Took 0D00:00:00.021990000\"\n",
    "`splayed\n",
    "time                          one\n",
    "---------------------------------\n",
    "2012.07.01D01:00:00.000000000 1\n",
    "2012.07.01D01:00:00.000000000 2\n",
    "2012.07.01D01:00:00.000000000 3\n",
    "2012.07.01D01:00:00.000000000 4"
   ]
  },
  {
   "cell_type": "markdown",
   "metadata": {},
   "source": [
    "## Files \n",
    "\n",
    "### convert.q\n",
    "\n",
    "This script coordinates distributing the work of converting the parquet file across multiple processes"
   ]
  },
  {
   "cell_type": "raw",
   "metadata": {},
   "source": [
    "//Load needed functions\n",
    "\\l qparquet.q\n",
    "\n",
    "//Open handles to worker processes\n",
    ".z.pd:`u#asc hopen each\"J\"$(.Q.opt .z.X)`slaves\n",
    "\n",
    "file:\"example.parquet\";\n",
    "\n",
    "columns:-1_getColumnNames[file]`\n",
    "\n",
    "destination:`:splayed\n",
    "\n",
    "conversionsPY:enlist[`time]!enlist \"table[\\\"time\\\"]=pd.to_numeric(table[\\\"time\\\"])\";\n",
    "conversionsQ:enlist[`time]!enlist {`timestamp$x-`long$2000.01.01D-1970.01.01D};\n",
    "\n",
    "start:.z.p;\n",
    "//Distribute tasks to workers\n",
    "//Each worker reads a column at a time\n",
    "{[f;d;convPY;convQ;c]\n",
    "  show string[.z.p],\"  \",c;\n",
    "  .Q.dd[d;`$c] set \n",
    "    $[(`$c) in key convQ;\n",
    "      convQ[`$c];\n",
    "\t  (::)]\n",
    "\t0N!$[(`$c) in key convPY;\n",
    "\t     getColumnWithConversion[f;c;convPY`$c];\n",
    "\t\t getColumn[f;c]]\n",
    "    }[file;destination;conversionsPY;conversionsQ] peach columns\n",
    "\n",
    "//Add a .d file to the destination to inform q of the order of columns\n",
    ".Q.dd[destination;`.d] set `$columns\n",
    "\n",
    "end:.z.p;\n",
    "\n",
    "show \"Took \",string end-start;\n",
    "\n",
    "//Load the converted table\n",
    "\\l splayed\n",
    "\n",
    "//Query the q table\n",
    "show select from splayed\n"
   ]
  },
  {
   "cell_type": "markdown",
   "metadata": {},
   "source": [
    "### qparquet.q\n",
    "\n",
    "This file contains needed imports and functions"
   ]
  },
  {
   "cell_type": "raw",
   "metadata": {},
   "source": [
    "//parquet library prints many warnings - ignore for this example\n",
    "p)import warnings\n",
    "p)warnings.filterwarnings(\"ignore\")\n",
    "\n",
    "//Import pandas, numpy, and pyarrow\n",
    "p)import pandas as pd\n",
    "p)import numpy as np\n",
    "p)import pyarrow as pa\n",
    "p)import pyarrow.parquet as pq\n",
    "\n",
    "p)def getColumnNames(file):    return (pq.read_schema(file)).names\n",
    "\n",
    "getColumnNames:.p.get`getColumnNames\n",
    "\n",
    "p)def getColumns(file, cols): table=pq.read_table(file, columns=cols); return (table.to_pandas()).to_dict('list')\n",
    "\n",
    "getColumns:.p.get`getColumns\n",
    "\n",
    "getColumn:{[file;column] first value getColumns[file;enlist column]`}\n",
    "\n",
    ".p.e \"def getColumnWithConversion(file, col, conversion): \",\n",
    "\t\t\"table=pq.read_table(file, columns=[col]);\",\n",
    "\t\t\"table=table.to_pandas();\",\n",
    "\t\t\"exec(conversion);\",\n",
    "\t\t\"return table.to_dict('list')\";\n",
    "\n",
    "getColumnWithConversionPY:.p.get`getColumnWithConversion\n",
    "\n",
    "getColumnWithConversion:{[f;c;conv] first value getColumnWithConversionPY[f;c;conv]`}"
   ]
  }
 ],
 "metadata": {
  "kernelspec": {
   "display_name": "Q (kdb+)",
   "language": "q",
   "name": "qpk"
  },
  "language_info": {
   "file_extension": ".q",
   "mimetype": "text/x-q",
   "name": "q",
   "version": "3.6.0"
  },
  "toc": {
   "base_numbering": 1,
   "nav_menu": {},
   "number_sections": true,
   "sideBar": true,
   "skip_h1_title": false,
   "title_cell": "Table of Contents",
   "title_sidebar": "Contents",
   "toc_cell": false,
   "toc_position": {},
   "toc_section_display": true,
   "toc_window_display": false
  }
 },
 "nbformat": 4,
 "nbformat_minor": 2
}
