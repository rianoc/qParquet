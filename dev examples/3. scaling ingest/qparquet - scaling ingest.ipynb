{
 "cells": [
  {
   "cell_type": "markdown",
   "metadata": {},
   "source": [
    "## Outline\n",
    "\n",
    "Previously we outlined functions to select a single column from a parquet file.\n",
    "\n",
    "This notebook outlines how to reuse those functions to speed up the conversion of a large parquet file.\n",
    "\n",
    "[Distributed each](https://code.kx.com/q/ref/peach/#processes-distributed-each) is used to achieve this."
   ]
  },
  {
   "cell_type": "markdown",
   "metadata": {},
   "source": [
    "### qparquet.q\n",
    "\n",
    "This file contains needed imports and functions"
   ]
  },
  {
   "cell_type": "raw",
   "metadata": {},
   "source": [
    "//parquet library prints many warnings - ignore for this example\n",
    "p)import warnings\n",
    "p)warnings.filterwarnings(\"ignore\")\n",
    "\n",
    "//Import pandas, numpy, and pyarrow\n",
    "p)import pandas as pd\n",
    "p)import numpy as np\n",
    "p)import pyarrow as pa\n",
    "p)import pyarrow.parquet as pq\n",
    "\n",
    "p)def getColumnNames(file):    return (pq.read_schema(file)).names\n",
    "\n",
    "getColumnNames:.p.get`getColumnNames\n",
    "\n",
    "p)def getColumns(file, cols):    table=pq.read_table('file', columns=cols); return (table.to_pandas()).to_dict('list')\n",
    "\n",
    "getColumns:.p.get`getColumns\n",
    "\n",
    "getColumn:{[file;column] first value getColumns[file;enlist column]`}"
   ]
  },
  {
   "cell_type": "markdown",
   "metadata": {},
   "source": [
    "### convert.q\n",
    "\n",
    "This script coordinates distributing the work of converting the parquet file across multiple processes"
   ]
  },
  {
   "cell_type": "raw",
   "metadata": {},
   "source": [
    "//Load needed functions\n",
    "\\l qparquet.q\n",
    "\n",
    "//Open handles to worker processes\n",
    ".z.pd:`u#asc hopen each\"J\"$(.Q.opt .z.X)`slaves\n",
    "\n",
    "file:\"example.parquet\";\n",
    "\n",
    "columns:-1_getColumnNames[file]`\n",
    "\n",
    "destination:`:splayed\n",
    "\n",
    "//Distribute tasks to workers\n",
    "//Each worker reads a column at a time\n",
    "{[f;d;c] .Q.dd[d;`$c] set getColumn[f;c]}[file;destination] peach columns\n",
    "\n",
    "//Add a .d file to the destination to inform q of the order of columns\n",
    ".Q.dd[destination;`.d] set `$columns\n",
    "\n",
    "//Load the converted table\n",
    "\\l splayed\n",
    "\n",
    "//Query the q table\n",
    "show select from splayed "
   ]
  },
  {
   "cell_type": "markdown",
   "metadata": {},
   "source": [
    "## Running the example"
   ]
  },
  {
   "cell_type": "markdown",
   "metadata": {},
   "source": [
    "Start your worker processes"
   ]
  },
  {
   "cell_type": "raw",
   "metadata": {},
   "source": [
    "q qparquet.q - p 5001 &\n",
    "q qparquet.q - p 5002 &\n",
    "q qparquet.q - p 5003 &"
   ]
  },
  {
   "cell_type": "markdown",
   "metadata": {},
   "source": [
    "Run the master process to distibute the work"
   ]
  },
  {
   "cell_type": "raw",
   "metadata": {},
   "source": [
    "q convert.q -s -3 -slaves 5001 5002 5003"
   ]
  },
  {
   "cell_type": "markdown",
   "metadata": {},
   "source": [
    "The output shows that the qparquet data is now successfully a q splayed table"
   ]
  },
  {
   "cell_type": "raw",
   "metadata": {},
   "source": [
    "`:splayed/one`:splayed/two`:splayed/three\n",
    "`:splayed/.d\n",
    "`splayed\n",
    "one two   three\n",
    "---------------\n",
    "-1  \"foo\" 1\n",
    "0   \"bar\" 0\n",
    "2.5 \"baz\" 1"
   ]
  }
 ],
 "metadata": {
  "kernelspec": {
   "display_name": "Q (kdb+)",
   "language": "q",
   "name": "qpk"
  },
  "language_info": {
   "file_extension": ".q",
   "mimetype": "text/x-q",
   "name": "q",
   "version": "3.6.0"
  },
  "toc": {
   "base_numbering": 1,
   "nav_menu": {},
   "number_sections": true,
   "sideBar": true,
   "skip_h1_title": false,
   "title_cell": "Table of Contents",
   "title_sidebar": "Contents",
   "toc_cell": false,
   "toc_position": {},
   "toc_section_display": true,
   "toc_window_display": false
  }
 },
 "nbformat": 4,
 "nbformat_minor": 2
}
