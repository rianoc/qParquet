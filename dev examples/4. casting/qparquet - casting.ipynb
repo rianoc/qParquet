{
 "cells": [
  {
   "cell_type": "markdown",
   "metadata": {},
   "source": [
    "## Outline\n",
    "\n",
    "Previous examples used a very basic table. In reality not all datatypes will automatically map from python to kdb+.\n",
    "\n",
    "This notebook shows one example of casting data as it passing between the languages."
   ]
  },
  {
   "cell_type": "code",
   "execution_count": 1,
   "metadata": {},
   "outputs": [],
   "source": [
    "//Imports and setup\n",
    "p)import warnings\n",
    "p)warnings.filterwarnings(\"ignore\")\n",
    "p)import pandas as pd\n",
    "p)import numpy as np\n",
    "p)import pyarrow as pa\n",
    "p)import pyarrow.parquet as pq"
   ]
  },
  {
   "cell_type": "markdown",
   "metadata": {},
   "source": [
    "Create a sample table. This time one column is a `datetime64`"
   ]
  },
  {
   "cell_type": "code",
   "execution_count": 2,
   "metadata": {},
   "outputs": [
    {
     "name": "stdout",
     "output_type": "stream",
     "text": [
      "   easy                time\n",
      "0     1 2012-07-01 01:00:00\n",
      "1     2 2012-07-01 01:00:00\n",
      "2     3 2012-07-01 01:00:00\n",
      "3     4 2012-07-01 01:00:00\n"
     ]
    }
   ],
   "source": [
    "p)times=[np.datetime64('2012-06-30T21:00:00.000000000-0400')] * 4\n",
    "p)table=pd.DataFrame(columns=['easy','time'])\n",
    "p)table['time'] = times\n",
    "p)table['easy'] = [1,2,3,4]\n",
    "p)print(table)"
   ]
  },
  {
   "cell_type": "markdown",
   "metadata": {},
   "source": [
    "After bringing the table in to kdb+ the `time` column is showing as `foreign`"
   ]
  },
  {
   "cell_type": "code",
   "execution_count": 3,
   "metadata": {},
   "outputs": [
    {
     "data": {
      "text/plain": [
       "easy| 1       2       3       4      \r\n",
       "time| foreign foreign foreign foreign\r\n"
      ]
     },
     "execution_count": 3,
     "metadata": {},
     "output_type": "execute_result"
    }
   ],
   "source": [
    "table:.p.wrap .p.pyget`table\n",
    "qdict:table[`:to_dict;`list]`\n",
    "qdict"
   ]
  },
  {
   "cell_type": "markdown",
   "metadata": {},
   "source": [
    "Let's try and bring across the underlying numeric value"
   ]
  },
  {
   "cell_type": "code",
   "execution_count": 4,
   "metadata": {},
   "outputs": [
    {
     "name": "stdout",
     "output_type": "stream",
     "text": [
      "   easy                 time\n",
      "0     1  1341104400000000000\n",
      "1     2  1341104400000000000\n",
      "2     3  1341104400000000000\n",
      "3     4  1341104400000000000\n"
     ]
    }
   ],
   "source": [
    "p)table['time'] = pd.to_numeric(table['time'])\n",
    "p)print(table)"
   ]
  },
  {
   "cell_type": "markdown",
   "metadata": {},
   "source": [
    "Casting directly to timestamp gives incorrect times"
   ]
  },
  {
   "cell_type": "code",
   "execution_count": 5,
   "metadata": {},
   "outputs": [
    {
     "data": {
      "text/plain": [
       "easy| 1                             2                             3          ..\r\n",
       "time| 2042.07.01D01:00:00.000000000 2042.07.01D01:00:00.000000000 2042.07.01D..\r\n"
      ]
     },
     "execution_count": 5,
     "metadata": {},
     "output_type": "execute_result"
    }
   ],
   "source": [
    "table:.p.wrap .p.pyget`table\n",
    "qdict:table[`:to_dict;`list]`\n",
    "@[qdict;`time;`timestamp$]"
   ]
  },
  {
   "cell_type": "markdown",
   "metadata": {},
   "source": [
    "Knowing that the time epoch in Kdb+ is `2000.01.01` we can see see that python is using `1970.01.01`"
   ]
  },
  {
   "cell_type": "code",
   "execution_count": 6,
   "metadata": {},
   "outputs": [
    {
     "data": {
      "text/plain": [
       "1970.01.01D00:00:00.000000000\r\n"
      ]
     },
     "execution_count": 6,
     "metadata": {},
     "output_type": "execute_result"
    }
   ],
   "source": [
    "timediff:2042.07.01D01-2012.07.01D01\n",
    "2000.01.01D00-timediff"
   ]
  },
  {
   "cell_type": "markdown",
   "metadata": {},
   "source": [
    "Using the difference in epochs we can now perform the correct casting"
   ]
  },
  {
   "cell_type": "code",
   "execution_count": 7,
   "metadata": {},
   "outputs": [
    {
     "data": {
      "text/plain": [
       "`qdict\r\n"
      ]
     },
     "execution_count": 7,
     "metadata": {},
     "output_type": "execute_result"
    },
    {
     "data": {
      "text/plain": [
       "easy time                         \r\n",
       "----------------------------------\r\n",
       "1    2012.07.01D01:00:00.000000000\r\n",
       "2    2012.07.01D01:00:00.000000000\r\n",
       "3    2012.07.01D01:00:00.000000000\r\n",
       "4    2012.07.01D01:00:00.000000000\r\n"
      ]
     },
     "execution_count": 7,
     "metadata": {},
     "output_type": "execute_result"
    }
   ],
   "source": [
    "epochOffsetNS:`long$2000.01.01D-1970.01.01D\n",
    "@[`qdict;`time;{`timestamp$x-epochOffsetNS}]\n",
    "flip qdict"
   ]
  }
 ],
 "metadata": {
  "kernelspec": {
   "display_name": "Q (kdb+)",
   "language": "q",
   "name": "qpk"
  },
  "language_info": {
   "file_extension": ".q",
   "mimetype": "text/x-q",
   "name": "q",
   "version": "3.6.0"
  },
  "toc": {
   "base_numbering": 1,
   "nav_menu": {},
   "number_sections": true,
   "sideBar": true,
   "skip_h1_title": false,
   "title_cell": "Table of Contents",
   "title_sidebar": "Contents",
   "toc_cell": false,
   "toc_position": {},
   "toc_section_display": true,
   "toc_window_display": false
  }
 },
 "nbformat": 4,
 "nbformat_minor": 2
}
