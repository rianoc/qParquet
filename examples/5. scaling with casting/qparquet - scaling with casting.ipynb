{
 "cells": [
  {
   "cell_type": "markdown",
   "metadata": {},
   "source": [
    "## Outline\n",
    "\n",
    "This notebook combines previous examples. Scaling the ingestion with casting rules per columns."
   ]
  },
  {
   "cell_type": "markdown",
   "metadata": {},
   "source": [
    "## Create sample table"
   ]
  },
  {
   "cell_type": "code",
   "execution_count": 2,
   "metadata": {},
   "outputs": [],
   "source": [
    "\\l ../../qparquet.q\n",
    "p)import numpy as np"
   ]
  },
  {
   "cell_type": "code",
   "execution_count": 3,
   "metadata": {},
   "outputs": [
    {
     "name": "stdout",
     "output_type": "stream",
     "text": [
      "                 time  one\n",
      "0 2012-07-01 01:00:00    1\n",
      "1 2012-07-01 01:00:00    2\n",
      "2 2012-07-01 01:00:00    3\n",
      "3 2012-07-01 01:00:00    4\n"
     ]
    }
   ],
   "source": [
    "p)times=[np.datetime64('2012-06-30T21:00:00.000000000-0400')] * 4\n",
    "p)table=pandas.DataFrame(columns=['time','one'])\n",
    "p)table['time'] = times\n",
    "p)table['one'] = [1,2,3,4]\n",
    "p)print(table)"
   ]
  },
  {
   "cell_type": "code",
   "execution_count": 4,
   "metadata": {},
   "outputs": [],
   "source": [
    "p)parquet.write_table(pyarrow.Table.from_pandas(table), 'example.parquet')"
   ]
  },
  {
   "cell_type": "markdown",
   "metadata": {},
   "source": [
    "### convert.q\n",
    "\n",
    "This script coordinates distributing the work of converting the parquet file across multiple processes\n",
    "\n",
    "```q\n",
    "//Load needed functions\n",
    "\\l ../../qparquet.q\n",
    "\n",
    "//Open handles to worker processes\n",
    ".z.pd:`u#asc hopen each\"J\"$(.Q.opt .z.X)`slaves\n",
    "\n",
    "file:`:example.parquet;\n",
    "\n",
    "columns:.qparquet.getColumnNames[file];\n",
    "\n",
    "destination:`:splayed\n",
    "\n",
    "pyConversions:enlist[`time]!enlist \"table[\\\"time\\\"]=pandas.to_numeric(table[\\\"time\\\"])\";\n",
    "qConversions:enlist[`time]!enlist {`timestamp$x-`long$2000.01.01D-1970.01.01D};\n",
    "\n",
    "start:.z.p;\n",
    "//Distribute tasks to workers\n",
    "//Each worker reads a column at a time\n",
    "{[f;d;p;q;c]\n",
    "  show string[.z.p],\"  \",string c;\n",
    "  .Q.dd[d;c] set .qparquet.getColumnsCustom[f;enlist c;p;q]c\n",
    "    }[file;destination;pyConversions;qConversions] peach columns\n",
    "\n",
    "//Add a .d file to the destination to inform q of the order of columns\n",
    ".Q.dd[destination;`.d] set columns\n",
    "\n",
    "end:.z.p;\n",
    "\n",
    "show \"Took \",string end-start;\n",
    "\n",
    "//Load the converted table\n",
    "\\l splayed\n",
    "\n",
    "//Query the q table\n",
    "show select from splayed\n",
    "\n",
    "```"
   ]
  },
  {
   "cell_type": "markdown",
   "metadata": {},
   "source": [
    "## Running the example"
   ]
  },
  {
   "cell_type": "markdown",
   "metadata": {},
   "source": [
    "Start your worker processes\n",
    "\n",
    "```q\n",
    "q ../../qparquet.q -p 5001 &\n",
    "q ../../qparquet.q -p 5002 &\n",
    "q ../../qparquet.q -p 5003 &\n",
    "```\n",
    "\n",
    "Run the master process to distibute the work\n",
    "\n",
    "```bash\n",
    "q convert.q -s -3 -slaves 5001 5002 5003\n",
    "```"
   ]
  },
  {
   "cell_type": "markdown",
   "metadata": {},
   "source": [
    "The output shows that the qparquet data is now successfully a q splayed table\n",
    "\n",
    "```q\n",
    "`:splayed/time`:splayed/one\n",
    "`:splayed/.d\n",
    "\"Took 0D00:00:00.021990000\"\n",
    "`splayed\n",
    "time                          one\n",
    "---------------------------------\n",
    "2012.07.01D01:00:00.000000000 1\n",
    "2012.07.01D01:00:00.000000000 2\n",
    "2012.07.01D01:00:00.000000000 3\n",
    "2012.07.01D01:00:00.000000000 4\n",
    "```"
   ]
  }
 ],
 "metadata": {
  "kernelspec": {
   "display_name": "Q (kdb+)",
   "language": "q",
   "name": "qpk"
  },
  "language_info": {
   "file_extension": ".q",
   "mimetype": "text/x-q",
   "name": "q",
   "version": "3.6.0"
  },
  "toc": {
   "base_numbering": 1,
   "nav_menu": {},
   "number_sections": true,
   "sideBar": true,
   "skip_h1_title": false,
   "title_cell": "Table of Contents",
   "title_sidebar": "Contents",
   "toc_cell": false,
   "toc_position": {},
   "toc_section_display": true,
   "toc_window_display": false
  }
 },
 "nbformat": 4,
 "nbformat_minor": 2
}
