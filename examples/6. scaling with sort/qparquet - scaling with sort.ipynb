{
 "cells": [
  {
   "cell_type": "markdown",
   "metadata": {},
   "source": [
    "## Outline\n",
    "\n",
    "Often ingestion tasks are written to simply dump data to disk. A second job then has to perform a disk sort.\n",
    "This is slow.\n",
    "\n",
    "This notebook shows how to perform a distributed ingest while also sorting."
   ]
  },
  {
   "cell_type": "markdown",
   "metadata": {},
   "source": [
    "## Create sample table"
   ]
  },
  {
   "cell_type": "code",
   "execution_count": 1,
   "metadata": {},
   "outputs": [],
   "source": [
    "\\l ../../qparquet.q\n",
    "p)import numpy as np"
   ]
  },
  {
   "cell_type": "code",
   "execution_count": 2,
   "metadata": {},
   "outputs": [
    {
     "name": "stdout",
     "output_type": "stream",
     "text": [
      "                 time sym  price  size\n",
      "0 2012-07-01 01:00:00   a    4.0   100\n",
      "1 2012-07-01 01:00:00   b    3.0   200\n",
      "2 2012-07-01 01:00:00   a    2.0   300\n",
      "3 2012-07-01 01:00:00   b    1.0   400\n"
     ]
    }
   ],
   "source": [
    "p)times=[np.datetime64('2012-06-30T21:00:00.000000000-0400')] * 4\n",
    "p)table=pandas.DataFrame(columns=['time','sym','price','size'])\n",
    "p)table['time'] = times\n",
    "p)table['sym'] = ['a','b','a','b']\n",
    "p)table['price'] = [4.0,3.0,2.0,1.0]\n",
    "p)table['size'] = [100,200,300,400]\n",
    "p)print(table)"
   ]
  },
  {
   "cell_type": "code",
   "execution_count": 3,
   "metadata": {},
   "outputs": [],
   "source": [
    "p)parquet.write_table(pyarrow.Table.from_pandas(table), 'example.parquet')"
   ]
  },
  {
   "cell_type": "markdown",
   "metadata": {},
   "source": [
    "## Sorting\n",
    "\n",
    "The important change in this example is that we extract the columns we wish to sort on in the master process.\n",
    "\n",
    "Using these the correct sort index for the data is create.\n",
    "\n",
    "This is then sent to all slave processes which will use it to correctly save each column in the same sort order"
   ]
  },
  {
   "cell_type": "raw",
   "metadata": {},
   "source": [
    "sortTab:.qparquet.getColumnsCustom[file;2#columns;pyConversions;qConversions];\n",
    "sortTab:update ind:i from sortTab;\n",
    "sortTab:update `p#sym from `sym`time xasc sortTab;\n",
    ".Q.dd[destination;`] set .Q.en[`.] delete ind from sortTab;\n",
    "\n",
    "-25!(.z.pd;({sortInd::x};sortTab`ind));"
   ]
  },
  {
   "cell_type": "markdown",
   "metadata": {},
   "source": [
    "## Running the example"
   ]
  },
  {
   "cell_type": "markdown",
   "metadata": {},
   "source": [
    "Start your worker processes"
   ]
  },
  {
   "cell_type": "raw",
   "metadata": {},
   "source": [
    "q ../../qparquet.q -p 5001 &\n",
    "q ../../qparquet.q -p 5002 &\n",
    "q ../../qparquet.q -p 5003 &"
   ]
  },
  {
   "cell_type": "markdown",
   "metadata": {},
   "source": [
    "Run the master process to distribute the work"
   ]
  },
  {
   "cell_type": "raw",
   "metadata": {},
   "source": [
    "q convert.q -s -3 -slaves 5001 5002 5003"
   ]
  },
  {
   "cell_type": "markdown",
   "metadata": {},
   "source": [
    "The output shows that the qparquet data is now successfully a q splayed table with corrct sort and attributes "
   ]
  },
  {
   "cell_type": "raw",
   "metadata": {},
   "source": [
    "`:splayed/price`:splayed/size\n",
    "`:splayed/.d\n",
    "\"Took 0D00:00:00.074172000\"\n",
    "`splayed\n",
    "time                          sym price size\n",
    "--------------------------------------------\n",
    "2012.07.01D01:00:00.000000000 a   4     100\n",
    "2012.07.01D01:00:00.000000000 a   2     300\n",
    "2012.07.01D01:00:00.000000000 b   3     200\n",
    "2012.07.01D01:00:00.000000000 b   1     400\n",
    "c    | t f a\n",
    "-----| -----\n",
    "time | p\n",
    "sym  | s   p\n",
    "price| f\n",
    "size | j"
   ]
  },
  {
   "cell_type": "markdown",
   "metadata": {},
   "source": [
    "### convert.q\n",
    "\n",
    "This script coordinates distributing the work of converting the parquet file across multiple processes"
   ]
  },
  {
   "cell_type": "raw",
   "metadata": {},
   "source": [
    "//Load needed functions\n",
    "\\l ../../qparquet.q\n",
    "\n",
    "//Open handles to worker processes\n",
    ".z.pd:`u#asc hopen each\"J\"$(.Q.opt .z.X)`slaves\n",
    "\n",
    "file:`:example.parquet;\n",
    "\n",
    "columns:.qparquet.getColumnNames[file];\n",
    "\n",
    "destination:`:splayed\n",
    "\n",
    "pyConversions:enlist[`time]!enlist \"table[\\\"time\\\"]=pandas.to_numeric(table[\\\"time\\\"])\";\n",
    "qConversions:`time`sym!({`timestamp$x-`long$2000.01.01D-1970.01.01D};`$);\n",
    "\n",
    "start:.z.p;\n",
    "\n",
    "sortTab:.qparquet.getColumnsCustom[file;2#columns;pyConversions;qConversions];\n",
    "sortTab:update ind:i from sortTab;\n",
    "sortTab:update `p#sym from `sym`time xasc sortTab;\n",
    ".Q.dd[destination;`] set .Q.en[`.] delete ind from sortTab;\n",
    "\n",
    "-25!(.z.pd;({sortInd::x};sortTab`ind));\n",
    "{neg[x][]} each .z.pd;\n",
    "\n",
    "//Distribute tasks to workers\n",
    "//Each worker reads a column at a time\n",
    "{[f;d;p;q;c]\n",
    "  show string[.z.p],\"  \",string c;\n",
    "  .Q.dd[d;c] set @[;sortInd] .qparquet.getColumnsCustom[f;enlist c;p;q]c\n",
    "    }[file;destination;pyConversions;qConversions] peach columns except `time`sym\n",
    "\n",
    "//Add a .d file to the destination to inform q of the order of columns\n",
    ".Q.dd[destination;`.d] set columns\n",
    "\n",
    "end:.z.p;\n",
    "\n",
    "show \"Took \",string end-start;\n",
    "\n",
    "//Load the converted table\n",
    "\\l splayed\n",
    "\n",
    "//Query the q table\n",
    "show select from splayed\n",
    "\n",
    "show meta splayed"
   ]
  }
 ],
 "metadata": {
  "kernelspec": {
   "display_name": "Q (kdb+)",
   "language": "q",
   "name": "qpk"
  },
  "language_info": {
   "file_extension": ".q",
   "mimetype": "text/x-q",
   "name": "q",
   "version": "3.6.0"
  },
  "toc": {
   "base_numbering": 1,
   "nav_menu": {},
   "number_sections": true,
   "sideBar": true,
   "skip_h1_title": false,
   "title_cell": "Table of Contents",
   "title_sidebar": "Contents",
   "toc_cell": false,
   "toc_position": {},
   "toc_section_display": true,
   "toc_window_display": false
  }
 },
 "nbformat": 4,
 "nbformat_minor": 2
}
